{
 "cells": [
  {
   "cell_type": "markdown",
   "metadata": {},
   "source": [
    "importando as bibliotecas que vão ser usadas"
   ]
  },
  {
   "cell_type": "code",
   "execution_count": 1,
   "metadata": {},
   "outputs": [],
   "source": [
    "try:\n",
    "    import patoolib\n",
    "    import pandas as pd\n",
    "    import os\n",
    "    import pyspark\n",
    "    import sys\n",
    "    from delta import *\n",
    "    from pyspark.sql import SparkSession\n",
    "    from pyspark.sql.types import *\n",
    "    from pyspark.sql.functions import *\n",
    "    from datetime import datetime, timedelta\n",
    "except Exception as e:\n",
    "    raise ValueError(e)"
   ]
  },
  {
   "cell_type": "markdown",
   "metadata": {},
   "source": [
    "configurando variáveis de ambiente para usar o Apache Spark e o Java JDK"
   ]
  },
  {
   "cell_type": "code",
   "execution_count": 2,
   "metadata": {},
   "outputs": [],
   "source": [
    "# Pasta onde o spark está instalado\n",
    "path_spark = 'C:/apps/spark-3.3.2-bin-hadoop3'\n",
    "\n",
    "# Pasta onde o Java JDK está instalado\n",
    "path_java = 'C:/Program Files/Microsoft/jdk-11.0.16.8-hotspot'\n",
    "\n",
    "# Definir como variáveis de ambiente\n",
    "os.environ['SPARK_HOME']  = path_spark\n",
    "os.environ['HADOOP_HOME'] = path_spark\n",
    "os.environ['JAVA_HOME'] = path_java\n",
    "os.environ['PATH'] += os.pathsep + f'{path_spark}/bin'\n",
    "os.environ['PATH'] += os.pathsep + path_java"
   ]
  },
  {
   "cell_type": "markdown",
   "metadata": {},
   "source": [
    "iniciando sessão spark"
   ]
  },
  {
   "cell_type": "code",
   "execution_count": 3,
   "metadata": {},
   "outputs": [],
   "source": [
    "try:\n",
    "    builder = pyspark.sql.SparkSession.builder.appName(\"spark_session\") \\\n",
    "        .config(\"spark.sql.extensions\", \"io.delta.sql.DeltaSparkSessionExtension\") \\\n",
    "        .config(\"spark.sql.catalog.spark_catalog\", \"org.apache.spark.sql.delta.catalog.DeltaCatalog\") \\\n",
    "        .config(\"spark.databricks.delta.schema.autoMerge.enabled\",\"true\")\n",
    "    global spark\n",
    "    spark = configure_spark_with_delta_pip(builder).getOrCreate()\n",
    "    spark.sparkContext.setLogLevel(\"WARN\")\n",
    "except Exception as e:\n",
    "    print(\"Erro ao iniciar sessão\")\n",
    "    raise ValueError(e)"
   ]
  },
  {
   "cell_type": "markdown",
   "metadata": {},
   "source": [
    "Extrai os arquivos .rar"
   ]
  },
  {
   "cell_type": "code",
   "execution_count": 4,
   "metadata": {},
   "outputs": [
    {
     "name": "stdout",
     "output_type": "stream",
     "text": [
      "patool: Extracting equipment_failure_sensors.rar ...\n",
      "patool: running \"C:\\Program Files\\7-Zip\\7z.EXE\" x -oC:\\Users\\gabriel.cardoso\\Desktop\\Gabriel\\1.Shape\\challenge-de-interview\\arquivo_extraido/ -- equipment_failure_sensors.rar\n"
     ]
    }
   ],
   "source": [
    "\n",
    "arquivo_rar = 'equipment_failure_sensors.rar'\n",
    "diretorio_destino = r'C:\\Users\\gabriel.cardoso\\Desktop\\Gabriel\\1.Shape\\challenge-de-interview\\arquivo_extraido/'  \n",
    "patoolib.extract_archive(arquivo_rar, outdir=diretorio_destino)"
   ]
  },
  {
   "cell_type": "markdown",
   "metadata": {},
   "source": [
    "lê o arquivo txt extraido"
   ]
  },
  {
   "cell_type": "code",
   "execution_count": 4,
   "metadata": {},
   "outputs": [
    {
     "name": "stdout",
     "output_type": "stream",
     "text": [
      "+---------------------------------------------------------------------------------------+\n",
      "|value                                                                                  |\n",
      "+---------------------------------------------------------------------------------------+\n",
      "|[2021-05-18 0:20:48]\\tERROR\\tsensor[5820]:\\t(temperature\\t311.29, vibration\\t6749.50)  |\n",
      "|[2021-05-18 0:20:48]\\tERROR\\tsensor[5820]:\\t(temperature\\t311.29, vibration\\t6749.50)  |\n",
      "|[2021-06-14 19:46:9]\\tERROR\\tsensor[3359]:\\t(temperature\\t270.00, vibration\\t-335.39)  |\n",
      "|[2020-09-27 22:55:11]\\tERROR\\tsensor[9503]:\\t(temperature\\t255.84, vibration\\t1264.54) |\n",
      "|[2019-02-9 20:56:4]\\tERROR\\tsensor[3437]:\\t(temperature\\t466.57, vibration\\t-1865.26)  |\n",
      "|[2019-02-6 6:19:34]\\tERROR\\tsensor[2958]:\\t(temperature\\t143.02, vibration\\t-4993.13)  |\n",
      "|[2019-08-10 20:23:22]\\tERROR\\tsensor[3743]:\\t(temperature\\t249.81, vibration\\t8925.85) |\n",
      "|[2021-03-25 14:39:49]\\tERROR\\tsensor[6282]:\\t(temperature\\t475.57, vibration\\t-2859.46)|\n",
      "|[2020-05-15 17:30:17]\\tERROR\\tsensor[2477]:\\t(temperature\\t200.20, vibration\\t-6866.76)|\n",
      "|[2020-12-11 11:52:47]\\tERROR\\tsensor[3838]:\\t(temperature\\t330.33, vibration\\t-6170.30)|\n",
      "|[2019-04-16 8:28:34]\\tERROR\\tsensor[4031]:\\t(temperature\\t310.94, vibration\\t7200.50)  |\n",
      "|[2020-10-1 20:8:30]\\tERROR\\tsensor[6848]:\\t(temperature\\t495.47, vibration\\t7626.35)   |\n",
      "|[2019-03-13 4:13:22]\\tERROR\\tsensor[1633]:\\t(temperature\\t124.81, vibration\\t-5077.34) |\n",
      "|[2020-01-11 11:43:48]\\tERROR\\tsensor[7474]:\\t(temperature\\t335.82, vibration\\t9551.73) |\n",
      "|[2020-02-9 13:57:55]\\tERROR\\tsensor[6229]:\\t(temperature\\t499.29, vibration\\t7891.62)  |\n",
      "|[2020-04-22 18:30:7]\\tERROR\\tsensor[2722]:\\t(temperature\\t325.49, vibration\\t4127.27)  |\n",
      "|[2021-03-27 19:56:16]\\tERROR\\tsensor[2163]:\\t(temperature\\t465.82, vibration\\t-6645.87)|\n",
      "|[2020-06-3 9:37:17]\\tERROR\\tsensor[8816]:\\t(temperature\\t117.71, vibration\\t-1004.52)  |\n",
      "|[2019-08-22 5:1:4]\\tERROR\\tsensor[4329]:\\t(temperature\\t97.47, vibration\\t-6519.88)    |\n",
      "|[2021-02-10 6:0:19]\\tERROR\\tsensor[258]:\\t(temperature\\t222.88, vibration\\terr)        |\n",
      "+---------------------------------------------------------------------------------------+\n",
      "only showing top 20 rows\n",
      "\n"
     ]
    }
   ],
   "source": [
    "df_txt = spark.read.text('arquivo_extraido\\equpment_failure_sensors.txt')\n",
    "df_txt.show(truncate = False)"
   ]
  },
  {
   "cell_type": "markdown",
   "metadata": {},
   "source": [
    "Faz um filtro no que está entre os parênteses e criar uma nova coluna"
   ]
  },
  {
   "cell_type": "code",
   "execution_count": 11,
   "metadata": {},
   "outputs": [
    {
     "name": "stdout",
     "output_type": "stream",
     "text": [
      "+---------------------------------------------+----------------------------------------+\n",
      "|value                                        |temperatureEvibration                   |\n",
      "+---------------------------------------------+----------------------------------------+\n",
      "|[2021-05-18 0:20:48]\\tERROR\\tsensor[5820]:\\t |temperature\\t311.29, vibration\\t6749.50 |\n",
      "|[2021-05-18 0:20:48]\\tERROR\\tsensor[5820]:\\t |temperature\\t311.29, vibration\\t6749.50 |\n",
      "|[2021-06-14 19:46:9]\\tERROR\\tsensor[3359]:\\t |temperature\\t270.00, vibration\\t-335.39 |\n",
      "|[2020-09-27 22:55:11]\\tERROR\\tsensor[9503]:\\t|temperature\\t255.84, vibration\\t1264.54 |\n",
      "|[2019-02-9 20:56:4]\\tERROR\\tsensor[3437]:\\t  |temperature\\t466.57, vibration\\t-1865.26|\n",
      "|[2019-02-6 6:19:34]\\tERROR\\tsensor[2958]:\\t  |temperature\\t143.02, vibration\\t-4993.13|\n",
      "|[2019-08-10 20:23:22]\\tERROR\\tsensor[3743]:\\t|temperature\\t249.81, vibration\\t8925.85 |\n",
      "|[2021-03-25 14:39:49]\\tERROR\\tsensor[6282]:\\t|temperature\\t475.57, vibration\\t-2859.46|\n",
      "|[2020-05-15 17:30:17]\\tERROR\\tsensor[2477]:\\t|temperature\\t200.20, vibration\\t-6866.76|\n",
      "|[2020-12-11 11:52:47]\\tERROR\\tsensor[3838]:\\t|temperature\\t330.33, vibration\\t-6170.30|\n",
      "|[2019-04-16 8:28:34]\\tERROR\\tsensor[4031]:\\t |temperature\\t310.94, vibration\\t7200.50 |\n",
      "|[2020-10-1 20:8:30]\\tERROR\\tsensor[6848]:\\t  |temperature\\t495.47, vibration\\t7626.35 |\n",
      "|[2019-03-13 4:13:22]\\tERROR\\tsensor[1633]:\\t |temperature\\t124.81, vibration\\t-5077.34|\n",
      "|[2020-01-11 11:43:48]\\tERROR\\tsensor[7474]:\\t|temperature\\t335.82, vibration\\t9551.73 |\n",
      "|[2020-02-9 13:57:55]\\tERROR\\tsensor[6229]:\\t |temperature\\t499.29, vibration\\t7891.62 |\n",
      "|[2020-04-22 18:30:7]\\tERROR\\tsensor[2722]:\\t |temperature\\t325.49, vibration\\t4127.27 |\n",
      "|[2021-03-27 19:56:16]\\tERROR\\tsensor[2163]:\\t|temperature\\t465.82, vibration\\t-6645.87|\n",
      "|[2020-06-3 9:37:17]\\tERROR\\tsensor[8816]:\\t  |temperature\\t117.71, vibration\\t-1004.52|\n",
      "|[2019-08-22 5:1:4]\\tERROR\\tsensor[4329]:\\t   |temperature\\t97.47, vibration\\t-6519.88 |\n",
      "|[2021-02-10 6:0:19]\\tERROR\\tsensor[258]:\\t   |temperature\\t222.88, vibration\\terr     |\n",
      "+---------------------------------------------+----------------------------------------+\n",
      "only showing top 20 rows\n",
      "\n"
     ]
    }
   ],
   "source": [
    "df_filter = df_txt.withColumn(\"temperatureEvibration\", regexp_extract(col(\"value\"), r'\\((.*?)\\)', 1))\n",
    "df_filter = df_filter.withColumn(\"value\", trim(regexp_extract(col(\"value\"), r'([^\\(]*)', 1)))\n",
    "df_filter.show(truncate=False)"
   ]
  },
  {
   "cell_type": "markdown",
   "metadata": {},
   "source": [
    "Faz a subistituição de \\t por , na coluna value"
   ]
  },
  {
   "cell_type": "code",
   "execution_count": 13,
   "metadata": {},
   "outputs": [
    {
     "name": "stdout",
     "output_type": "stream",
     "text": [
      "+------------------------------------------+----------------------------------------+\n",
      "|value                                     |temperatureEvibration                   |\n",
      "+------------------------------------------+----------------------------------------+\n",
      "|[2021-05-18 0:20:48],ERROR,sensor[5820]:, |temperature\\t311.29, vibration\\t6749.50 |\n",
      "|[2021-05-18 0:20:48],ERROR,sensor[5820]:, |temperature\\t311.29, vibration\\t6749.50 |\n",
      "|[2021-06-14 19:46:9],ERROR,sensor[3359]:, |temperature\\t270.00, vibration\\t-335.39 |\n",
      "|[2020-09-27 22:55:11],ERROR,sensor[9503]:,|temperature\\t255.84, vibration\\t1264.54 |\n",
      "|[2019-02-9 20:56:4],ERROR,sensor[3437]:,  |temperature\\t466.57, vibration\\t-1865.26|\n",
      "|[2019-02-6 6:19:34],ERROR,sensor[2958]:,  |temperature\\t143.02, vibration\\t-4993.13|\n",
      "|[2019-08-10 20:23:22],ERROR,sensor[3743]:,|temperature\\t249.81, vibration\\t8925.85 |\n",
      "|[2021-03-25 14:39:49],ERROR,sensor[6282]:,|temperature\\t475.57, vibration\\t-2859.46|\n",
      "|[2020-05-15 17:30:17],ERROR,sensor[2477]:,|temperature\\t200.20, vibration\\t-6866.76|\n",
      "|[2020-12-11 11:52:47],ERROR,sensor[3838]:,|temperature\\t330.33, vibration\\t-6170.30|\n",
      "|[2019-04-16 8:28:34],ERROR,sensor[4031]:, |temperature\\t310.94, vibration\\t7200.50 |\n",
      "|[2020-10-1 20:8:30],ERROR,sensor[6848]:,  |temperature\\t495.47, vibration\\t7626.35 |\n",
      "|[2019-03-13 4:13:22],ERROR,sensor[1633]:, |temperature\\t124.81, vibration\\t-5077.34|\n",
      "|[2020-01-11 11:43:48],ERROR,sensor[7474]:,|temperature\\t335.82, vibration\\t9551.73 |\n",
      "|[2020-02-9 13:57:55],ERROR,sensor[6229]:, |temperature\\t499.29, vibration\\t7891.62 |\n",
      "|[2020-04-22 18:30:7],ERROR,sensor[2722]:, |temperature\\t325.49, vibration\\t4127.27 |\n",
      "|[2021-03-27 19:56:16],ERROR,sensor[2163]:,|temperature\\t465.82, vibration\\t-6645.87|\n",
      "|[2020-06-3 9:37:17],ERROR,sensor[8816]:,  |temperature\\t117.71, vibration\\t-1004.52|\n",
      "|[2019-08-22 5:1:4],ERROR,sensor[4329]:,   |temperature\\t97.47, vibration\\t-6519.88 |\n",
      "|[2021-02-10 6:0:19],ERROR,sensor[258]:,   |temperature\\t222.88, vibration\\terr     |\n",
      "+------------------------------------------+----------------------------------------+\n",
      "only showing top 20 rows\n",
      "\n"
     ]
    }
   ],
   "source": [
    "df_substituindoT = df_filter.withColumn(\"value\", regexp_replace(col(\"value\"), r'\\t', ','))\n",
    "df_substituindoT.show(truncate=False)"
   ]
  },
  {
   "cell_type": "markdown",
   "metadata": {},
   "source": [
    "Dividindo a coluna temperatureEvibration criada anteriormente em duas colunas diferentes, chamadas temperature e vibration"
   ]
  },
  {
   "cell_type": "code",
   "execution_count": 16,
   "metadata": {},
   "outputs": [
    {
     "name": "stdout",
     "output_type": "stream",
     "text": [
      "+------------------------------------------+-------------------+--------------------+\n",
      "|value                                     |temperature        |vibration           |\n",
      "+------------------------------------------+-------------------+--------------------+\n",
      "|[2021-05-18 0:20:48],ERROR,sensor[5820]:, |temperature\\t311.29| vibration\\t6749.50 |\n",
      "|[2021-05-18 0:20:48],ERROR,sensor[5820]:, |temperature\\t311.29| vibration\\t6749.50 |\n",
      "|[2021-06-14 19:46:9],ERROR,sensor[3359]:, |temperature\\t270.00| vibration\\t-335.39 |\n",
      "|[2020-09-27 22:55:11],ERROR,sensor[9503]:,|temperature\\t255.84| vibration\\t1264.54 |\n",
      "|[2019-02-9 20:56:4],ERROR,sensor[3437]:,  |temperature\\t466.57| vibration\\t-1865.26|\n",
      "|[2019-02-6 6:19:34],ERROR,sensor[2958]:,  |temperature\\t143.02| vibration\\t-4993.13|\n",
      "|[2019-08-10 20:23:22],ERROR,sensor[3743]:,|temperature\\t249.81| vibration\\t8925.85 |\n",
      "|[2021-03-25 14:39:49],ERROR,sensor[6282]:,|temperature\\t475.57| vibration\\t-2859.46|\n",
      "|[2020-05-15 17:30:17],ERROR,sensor[2477]:,|temperature\\t200.20| vibration\\t-6866.76|\n",
      "|[2020-12-11 11:52:47],ERROR,sensor[3838]:,|temperature\\t330.33| vibration\\t-6170.30|\n",
      "|[2019-04-16 8:28:34],ERROR,sensor[4031]:, |temperature\\t310.94| vibration\\t7200.50 |\n",
      "|[2020-10-1 20:8:30],ERROR,sensor[6848]:,  |temperature\\t495.47| vibration\\t7626.35 |\n",
      "|[2019-03-13 4:13:22],ERROR,sensor[1633]:, |temperature\\t124.81| vibration\\t-5077.34|\n",
      "|[2020-01-11 11:43:48],ERROR,sensor[7474]:,|temperature\\t335.82| vibration\\t9551.73 |\n",
      "|[2020-02-9 13:57:55],ERROR,sensor[6229]:, |temperature\\t499.29| vibration\\t7891.62 |\n",
      "|[2020-04-22 18:30:7],ERROR,sensor[2722]:, |temperature\\t325.49| vibration\\t4127.27 |\n",
      "|[2021-03-27 19:56:16],ERROR,sensor[2163]:,|temperature\\t465.82| vibration\\t-6645.87|\n",
      "|[2020-06-3 9:37:17],ERROR,sensor[8816]:,  |temperature\\t117.71| vibration\\t-1004.52|\n",
      "|[2019-08-22 5:1:4],ERROR,sensor[4329]:,   |temperature\\t97.47 | vibration\\t-6519.88|\n",
      "|[2021-02-10 6:0:19],ERROR,sensor[258]:,   |temperature\\t222.88| vibration\\terr     |\n",
      "+------------------------------------------+-------------------+--------------------+\n",
      "only showing top 20 rows\n",
      "\n"
     ]
    }
   ],
   "source": [
    "df_column_div = df_substituindoT.withColumn(\"temperature\", split(\"temperatureEvibration\", \",\")[0]) \\\n",
    "                    .withColumn(\"vibration\", split(\"temperatureEvibration\", \",\")[1]) \\\n",
    "                    .drop(\"temperatureEvibration\")\n",
    "df_column_div.show(truncate=False)"
   ]
  },
  {
   "cell_type": "markdown",
   "metadata": {},
   "source": [
    "Retirando a tabulação das colunas temperature e vibration para manter somente os valores que vão ser usados"
   ]
  },
  {
   "cell_type": "code",
   "execution_count": 17,
   "metadata": {},
   "outputs": [
    {
     "name": "stdout",
     "output_type": "stream",
     "text": [
      "+------------------------------------------+-----------+---------+\n",
      "|value                                     |temperature|vibration|\n",
      "+------------------------------------------+-----------+---------+\n",
      "|[2021-05-18 0:20:48],ERROR,sensor[5820]:, |311.29     |6749.50  |\n",
      "|[2021-05-18 0:20:48],ERROR,sensor[5820]:, |311.29     |6749.50  |\n",
      "|[2021-06-14 19:46:9],ERROR,sensor[3359]:, |270.00     |-335.39  |\n",
      "|[2020-09-27 22:55:11],ERROR,sensor[9503]:,|255.84     |1264.54  |\n",
      "|[2019-02-9 20:56:4],ERROR,sensor[3437]:,  |466.57     |-1865.26 |\n",
      "|[2019-02-6 6:19:34],ERROR,sensor[2958]:,  |143.02     |-4993.13 |\n",
      "|[2019-08-10 20:23:22],ERROR,sensor[3743]:,|249.81     |8925.85  |\n",
      "|[2021-03-25 14:39:49],ERROR,sensor[6282]:,|475.57     |-2859.46 |\n",
      "|[2020-05-15 17:30:17],ERROR,sensor[2477]:,|200.20     |-6866.76 |\n",
      "|[2020-12-11 11:52:47],ERROR,sensor[3838]:,|330.33     |-6170.30 |\n",
      "|[2019-04-16 8:28:34],ERROR,sensor[4031]:, |310.94     |7200.50  |\n",
      "|[2020-10-1 20:8:30],ERROR,sensor[6848]:,  |495.47     |7626.35  |\n",
      "|[2019-03-13 4:13:22],ERROR,sensor[1633]:, |124.81     |-5077.34 |\n",
      "|[2020-01-11 11:43:48],ERROR,sensor[7474]:,|335.82     |9551.73  |\n",
      "|[2020-02-9 13:57:55],ERROR,sensor[6229]:, |499.29     |7891.62  |\n",
      "|[2020-04-22 18:30:7],ERROR,sensor[2722]:, |325.49     |4127.27  |\n",
      "|[2021-03-27 19:56:16],ERROR,sensor[2163]:,|465.82     |-6645.87 |\n",
      "|[2020-06-3 9:37:17],ERROR,sensor[8816]:,  |117.71     |-1004.52 |\n",
      "|[2019-08-22 5:1:4],ERROR,sensor[4329]:,   |97.47      |-6519.88 |\n",
      "|[2021-02-10 6:0:19],ERROR,sensor[258]:,   |222.88     |err      |\n",
      "+------------------------------------------+-----------+---------+\n",
      "only showing top 20 rows\n",
      "\n"
     ]
    }
   ],
   "source": [
    "df_removeTab = df_column_div.withColumn(\"temperature\", split(\"temperature\", \"\\t\")[1])\n",
    "df_removeTab = df_removeTab.withColumn(\"vibration\", split(\"vibration\", \"\\t\")[1])\n",
    "df_removeTab.show(truncate=False)"
   ]
  },
  {
   "cell_type": "markdown",
   "metadata": {},
   "source": [
    "1. Dividindo a coluna value e usando a virgula pra separar as colunas desejadas\n",
    "2. Extraindo os numeros dos sensores que estão dentro de [] "
   ]
  },
  {
   "cell_type": "code",
   "execution_count": 18,
   "metadata": {},
   "outputs": [
    {
     "name": "stdout",
     "output_type": "stream",
     "text": [
      "+-----------+---------+---------------------+----------+---------+\n",
      "|temperature|vibration|timestamp            |error_type|sensor_id|\n",
      "+-----------+---------+---------------------+----------+---------+\n",
      "|311.29     |6749.5   |[2021-05-18 0:20:48] |ERROR     |5820     |\n",
      "|311.29     |6749.5   |[2021-05-18 0:20:48] |ERROR     |5820     |\n",
      "|270.0      |-335.39  |[2021-06-14 19:46:9] |ERROR     |3359     |\n",
      "|255.84     |1264.54  |[2020-09-27 22:55:11]|ERROR     |9503     |\n",
      "|466.57     |-1865.26 |[2019-02-9 20:56:4]  |ERROR     |3437     |\n",
      "|143.02     |-4993.13 |[2019-02-6 6:19:34]  |ERROR     |2958     |\n",
      "|249.81     |8925.85  |[2019-08-10 20:23:22]|ERROR     |3743     |\n",
      "|475.57     |-2859.46 |[2021-03-25 14:39:49]|ERROR     |6282     |\n",
      "|200.2      |-6866.76 |[2020-05-15 17:30:17]|ERROR     |2477     |\n",
      "|330.33     |-6170.3  |[2020-12-11 11:52:47]|ERROR     |3838     |\n",
      "|310.94     |7200.5   |[2019-04-16 8:28:34] |ERROR     |4031     |\n",
      "|495.47     |7626.35  |[2020-10-1 20:8:30]  |ERROR     |6848     |\n",
      "|124.81     |-5077.34 |[2019-03-13 4:13:22] |ERROR     |1633     |\n",
      "|335.82     |9551.73  |[2020-01-11 11:43:48]|ERROR     |7474     |\n",
      "|499.29     |7891.62  |[2020-02-9 13:57:55] |ERROR     |6229     |\n",
      "|325.49     |4127.27  |[2020-04-22 18:30:7] |ERROR     |2722     |\n",
      "|465.82     |-6645.87 |[2021-03-27 19:56:16]|ERROR     |2163     |\n",
      "|117.71     |-1004.52 |[2020-06-3 9:37:17]  |ERROR     |8816     |\n",
      "|97.47      |-6519.88 |[2019-08-22 5:1:4]   |ERROR     |4329     |\n",
      "|222.88     |null     |[2021-02-10 6:0:19]  |ERROR     |258      |\n",
      "+-----------+---------+---------------------+----------+---------+\n",
      "only showing top 20 rows\n",
      "\n"
     ]
    }
   ],
   "source": [
    "df_final = df_removeTab.withColumn(\"value_array\", split(col(\"value\"), \",\"))\n",
    "df_final = df_final.withColumn(\"timestamp\", df_final[\"value_array\"][0]) \\\n",
    "                   .withColumn(\"error_type\", df_final[\"value_array\"][1]) \\\n",
    "                   .withColumn(\"sensor_info\", df_final[\"value_array\"][2]) \\\n",
    "                   .withColumn(\"temperature\", df_final[\"temperature\"].cast(\"float\")) \\\n",
    "                   .withColumn(\"vibration\", df_final[\"vibration\"].cast(\"float\"))\n",
    "df_final = df_final.drop(\"value_array\", \"value\")\n",
    "df_final = df_final.withColumn(\"sensor_id\", regexp_extract(\"sensor_info\", \"\\\\[(\\\\d+)\\\\]\", 1))\n",
    "df_final = df_final.drop(\"sensor_info\")\n",
    "df_final.show(truncate=False)\n"
   ]
  },
  {
   "cell_type": "code",
   "execution_count": 19,
   "metadata": {},
   "outputs": [
    {
     "name": "stdout",
     "output_type": "stream",
     "text": [
      "root\n",
      " |-- temperature: float (nullable = true)\n",
      " |-- vibration: float (nullable = true)\n",
      " |-- timestamp: string (nullable = true)\n",
      " |-- error_type: string (nullable = true)\n",
      " |-- sensor_id: string (nullable = true)\n",
      "\n"
     ]
    }
   ],
   "source": [
    "df_final.printSchema()"
   ]
  },
  {
   "cell_type": "markdown",
   "metadata": {},
   "source": [
    "Começando a leitura do arquivo Json\n"
   ]
  },
  {
   "cell_type": "code",
   "execution_count": 27,
   "metadata": {},
   "outputs": [
    {
     "data": {
      "text/html": [
       "<div>\n",
       "<style scoped>\n",
       "    .dataframe tbody tr th:only-of-type {\n",
       "        vertical-align: middle;\n",
       "    }\n",
       "\n",
       "    .dataframe tbody tr th {\n",
       "        vertical-align: top;\n",
       "    }\n",
       "\n",
       "    .dataframe thead th {\n",
       "        text-align: right;\n",
       "    }\n",
       "</style>\n",
       "<table border=\"1\" class=\"dataframe\">\n",
       "  <thead>\n",
       "    <tr style=\"text-align: right;\">\n",
       "      <th></th>\n",
       "      <th>equipment_id</th>\n",
       "      <th>name</th>\n",
       "      <th>group_name</th>\n",
       "    </tr>\n",
       "  </thead>\n",
       "  <tbody>\n",
       "    <tr>\n",
       "      <th>0</th>\n",
       "      <td>1</td>\n",
       "      <td>5310B9D7</td>\n",
       "      <td>FGHQWR2Q</td>\n",
       "    </tr>\n",
       "    <tr>\n",
       "      <th>1</th>\n",
       "      <td>2</td>\n",
       "      <td>43B81579</td>\n",
       "      <td>VAPQY59S</td>\n",
       "    </tr>\n",
       "    <tr>\n",
       "      <th>2</th>\n",
       "      <td>3</td>\n",
       "      <td>E1AD07D4</td>\n",
       "      <td>FGHQWR2Q</td>\n",
       "    </tr>\n",
       "    <tr>\n",
       "      <th>3</th>\n",
       "      <td>4</td>\n",
       "      <td>ADE40E7F</td>\n",
       "      <td>9N127Z5P</td>\n",
       "    </tr>\n",
       "    <tr>\n",
       "      <th>4</th>\n",
       "      <td>5</td>\n",
       "      <td>78FFAD0C</td>\n",
       "      <td>9N127Z5P</td>\n",
       "    </tr>\n",
       "    <tr>\n",
       "      <th>5</th>\n",
       "      <td>6</td>\n",
       "      <td>9AD15F7E</td>\n",
       "      <td>PA92NCXZ</td>\n",
       "    </tr>\n",
       "    <tr>\n",
       "      <th>6</th>\n",
       "      <td>7</td>\n",
       "      <td>E54B5C3A</td>\n",
       "      <td>FGHQWR2Q</td>\n",
       "    </tr>\n",
       "    <tr>\n",
       "      <th>7</th>\n",
       "      <td>8</td>\n",
       "      <td>86083278</td>\n",
       "      <td>NQWPA8D3</td>\n",
       "    </tr>\n",
       "    <tr>\n",
       "      <th>8</th>\n",
       "      <td>9</td>\n",
       "      <td>3329175B</td>\n",
       "      <td>VAPQY59S</td>\n",
       "    </tr>\n",
       "    <tr>\n",
       "      <th>9</th>\n",
       "      <td>10</td>\n",
       "      <td>98B84035</td>\n",
       "      <td>NQWPA8D3</td>\n",
       "    </tr>\n",
       "    <tr>\n",
       "      <th>10</th>\n",
       "      <td>11</td>\n",
       "      <td>09C37FB8</td>\n",
       "      <td>PA92NCXZ</td>\n",
       "    </tr>\n",
       "    <tr>\n",
       "      <th>11</th>\n",
       "      <td>12</td>\n",
       "      <td>CF304D24</td>\n",
       "      <td>FGHQWR2Q</td>\n",
       "    </tr>\n",
       "    <tr>\n",
       "      <th>12</th>\n",
       "      <td>13</td>\n",
       "      <td>4E834E81</td>\n",
       "      <td>Z9K1SAP4</td>\n",
       "    </tr>\n",
       "    <tr>\n",
       "      <th>13</th>\n",
       "      <td>14</td>\n",
       "      <td>2C195700</td>\n",
       "      <td>VAPQY59S</td>\n",
       "    </tr>\n",
       "  </tbody>\n",
       "</table>\n",
       "</div>"
      ],
      "text/plain": [
       "    equipment_id      name group_name\n",
       "0              1  5310B9D7   FGHQWR2Q\n",
       "1              2  43B81579   VAPQY59S\n",
       "2              3  E1AD07D4   FGHQWR2Q\n",
       "3              4  ADE40E7F   9N127Z5P\n",
       "4              5  78FFAD0C   9N127Z5P\n",
       "5              6  9AD15F7E   PA92NCXZ\n",
       "6              7  E54B5C3A   FGHQWR2Q\n",
       "7              8  86083278   NQWPA8D3\n",
       "8              9  3329175B   VAPQY59S\n",
       "9             10  98B84035   NQWPA8D3\n",
       "10            11  09C37FB8   PA92NCXZ\n",
       "11            12  CF304D24   FGHQWR2Q\n",
       "12            13  4E834E81   Z9K1SAP4\n",
       "13            14  2C195700   VAPQY59S"
      ]
     },
     "execution_count": 27,
     "metadata": {},
     "output_type": "execute_result"
    }
   ],
   "source": [
    "df_json = pd.read_json(\"equipment.JSON\")\n",
    "df_json\n"
   ]
  },
  {
   "cell_type": "markdown",
   "metadata": {},
   "source": [
    "Lendo o arquivo CSV"
   ]
  },
  {
   "cell_type": "code",
   "execution_count": 29,
   "metadata": {},
   "outputs": [
    {
     "data": {
      "text/html": [
       "<div>\n",
       "<style scoped>\n",
       "    .dataframe tbody tr th:only-of-type {\n",
       "        vertical-align: middle;\n",
       "    }\n",
       "\n",
       "    .dataframe tbody tr th {\n",
       "        vertical-align: top;\n",
       "    }\n",
       "\n",
       "    .dataframe thead th {\n",
       "        text-align: right;\n",
       "    }\n",
       "</style>\n",
       "<table border=\"1\" class=\"dataframe\">\n",
       "  <thead>\n",
       "    <tr style=\"text-align: right;\">\n",
       "      <th></th>\n",
       "      <th>equipment_id</th>\n",
       "      <th>sensor_id</th>\n",
       "    </tr>\n",
       "  </thead>\n",
       "  <tbody>\n",
       "    <tr>\n",
       "      <th>0</th>\n",
       "      <td>1</td>\n",
       "      <td>4275</td>\n",
       "    </tr>\n",
       "    <tr>\n",
       "      <th>1</th>\n",
       "      <td>2</td>\n",
       "      <td>5212</td>\n",
       "    </tr>\n",
       "    <tr>\n",
       "      <th>2</th>\n",
       "      <td>3</td>\n",
       "      <td>7381</td>\n",
       "    </tr>\n",
       "    <tr>\n",
       "      <th>3</th>\n",
       "      <td>4</td>\n",
       "      <td>396</td>\n",
       "    </tr>\n",
       "    <tr>\n",
       "      <th>4</th>\n",
       "      <td>5</td>\n",
       "      <td>1645</td>\n",
       "    </tr>\n",
       "    <tr>\n",
       "      <th>...</th>\n",
       "      <td>...</td>\n",
       "      <td>...</td>\n",
       "    </tr>\n",
       "    <tr>\n",
       "      <th>9995</th>\n",
       "      <td>14</td>\n",
       "      <td>7672</td>\n",
       "    </tr>\n",
       "    <tr>\n",
       "      <th>9996</th>\n",
       "      <td>1</td>\n",
       "      <td>1302</td>\n",
       "    </tr>\n",
       "    <tr>\n",
       "      <th>9997</th>\n",
       "      <td>2</td>\n",
       "      <td>434</td>\n",
       "    </tr>\n",
       "    <tr>\n",
       "      <th>9998</th>\n",
       "      <td>3</td>\n",
       "      <td>5440</td>\n",
       "    </tr>\n",
       "    <tr>\n",
       "      <th>9999</th>\n",
       "      <td>4</td>\n",
       "      <td>3653</td>\n",
       "    </tr>\n",
       "  </tbody>\n",
       "</table>\n",
       "<p>10000 rows × 2 columns</p>\n",
       "</div>"
      ],
      "text/plain": [
       "      equipment_id  sensor_id\n",
       "0                1       4275\n",
       "1                2       5212\n",
       "2                3       7381\n",
       "3                4        396\n",
       "4                5       1645\n",
       "...            ...        ...\n",
       "9995            14       7672\n",
       "9996             1       1302\n",
       "9997             2        434\n",
       "9998             3       5440\n",
       "9999             4       3653\n",
       "\n",
       "[10000 rows x 2 columns]"
      ]
     },
     "execution_count": 29,
     "metadata": {},
     "output_type": "execute_result"
    }
   ],
   "source": [
    "nome_arquivo_csv = 'equipment_sensors.csv'\n",
    "df_csv = pd.read_csv(nome_arquivo_csv)\n",
    "df_csv"
   ]
  },
  {
   "cell_type": "markdown",
   "metadata": {},
   "source": [
    "1. Salvando os arquivos em parquet, o parquet será usando para a criação das tempView que vão ser usandas no spark.sql"
   ]
  },
  {
   "cell_type": "code",
   "execution_count": 30,
   "metadata": {},
   "outputs": [],
   "source": [
    "df_json.to_parquet(\"parquet\\equipments.parquet\")\n",
    "df_csv.to_parquet(\"parquet\\equipment_sensors.parquet\")"
   ]
  },
  {
   "cell_type": "markdown",
   "metadata": {},
   "source": [
    "lendo os arquivos parquet que foram salvos anterior mente e criando as tempView que vão ser usadas"
   ]
  },
  {
   "cell_type": "code",
   "execution_count": 31,
   "metadata": {},
   "outputs": [],
   "source": [
    "spark.read.parquet(\"parquet\\equipments.parquet\").createOrReplaceTempView(\"arquivo_json\")\n",
    "spark.read.parquet(\"parquet\\equipment_sensors.parquet\").createOrReplaceTempView(\"arquivo_csv\")\n",
    "df_final.createOrReplaceTempView(\"arquivo_txt\")"
   ]
  },
  {
   "cell_type": "markdown",
   "metadata": {},
   "source": [
    "Começando os select que vão ser usados para responder as 4 questões"
   ]
  },
  {
   "cell_type": "code",
   "execution_count": 32,
   "metadata": {},
   "outputs": [
    {
     "name": "stdout",
     "output_type": "stream",
     "text": [
      "+---------+---------------------+----------+---------+-----------+\n",
      "|sensor_id|timestamp            |error_type|vibration|temperature|\n",
      "+---------+---------------------+----------+---------+-----------+\n",
      "|5820     |[2021-05-18 0:20:48] |ERROR     |6749.5   |311.29     |\n",
      "|5820     |[2021-05-18 0:20:48] |ERROR     |6749.5   |311.29     |\n",
      "|3359     |[2021-06-14 19:46:9] |ERROR     |-335.39  |270.0      |\n",
      "|9503     |[2020-09-27 22:55:11]|ERROR     |1264.54  |255.84     |\n",
      "|3437     |[2019-02-9 20:56:4]  |ERROR     |-1865.26 |466.57     |\n",
      "|2958     |[2019-02-6 6:19:34]  |ERROR     |-4993.13 |143.02     |\n",
      "|3743     |[2019-08-10 20:23:22]|ERROR     |8925.85  |249.81     |\n",
      "|6282     |[2021-03-25 14:39:49]|ERROR     |-2859.46 |475.57     |\n",
      "|2477     |[2020-05-15 17:30:17]|ERROR     |-6866.76 |200.2      |\n",
      "|3838     |[2020-12-11 11:52:47]|ERROR     |-6170.3  |330.33     |\n",
      "|4031     |[2019-04-16 8:28:34] |ERROR     |7200.5   |310.94     |\n",
      "|6848     |[2020-10-1 20:8:30]  |ERROR     |7626.35  |495.47     |\n",
      "|1633     |[2019-03-13 4:13:22] |ERROR     |-5077.34 |124.81     |\n",
      "|7474     |[2020-01-11 11:43:48]|ERROR     |9551.73  |335.82     |\n",
      "|6229     |[2020-02-9 13:57:55] |ERROR     |7891.62  |499.29     |\n",
      "|2722     |[2020-04-22 18:30:7] |ERROR     |4127.27  |325.49     |\n",
      "|2163     |[2021-03-27 19:56:16]|ERROR     |-6645.87 |465.82     |\n",
      "|8816     |[2020-06-3 9:37:17]  |ERROR     |-1004.52 |117.71     |\n",
      "|4329     |[2019-08-22 5:1:4]   |ERROR     |-6519.88 |97.47      |\n",
      "|258      |[2021-02-10 6:0:19]  |ERROR     |null     |222.88     |\n",
      "+---------+---------------------+----------+---------+-----------+\n",
      "only showing top 20 rows\n",
      "\n"
     ]
    }
   ],
   "source": [
    "spark.sql(\n",
    "    \"\"\"\n",
    "    SELECT\n",
    "        sensor_id,\n",
    "        timestamp,\n",
    "        error_type,\n",
    "        vibration,\n",
    "        temperature    \n",
    "    FROM arquivo_txt as t\n",
    "    \"\"\"\n",
    ").show(truncate=False)"
   ]
  },
  {
   "cell_type": "markdown",
   "metadata": {},
   "source": [
    "validando a quantidade de registros totais"
   ]
  },
  {
   "cell_type": "code",
   "execution_count": 33,
   "metadata": {},
   "outputs": [
    {
     "name": "stdout",
     "output_type": "stream",
     "text": [
      "+--------+\n",
      "|count(1)|\n",
      "+--------+\n",
      "|5000001 |\n",
      "+--------+\n",
      "\n"
     ]
    }
   ],
   "source": [
    "spark.sql(\n",
    "    \"\"\"\n",
    "    SELECT count(*)  \n",
    "    FROM arquivo_txt as t\n",
    "    \"\"\"\n",
    ").show(truncate=False)"
   ]
  },
  {
   "cell_type": "markdown",
   "metadata": {},
   "source": [
    "validando quantos registros duplicdos tem na tabela"
   ]
  },
  {
   "cell_type": "code",
   "execution_count": 34,
   "metadata": {},
   "outputs": [
    {
     "name": "stdout",
     "output_type": "stream",
     "text": [
      "+---------+--------------------+----------+---------+-----------+--------+\n",
      "|sensor_id|timestamp           |error_type|vibration|temperature|count(1)|\n",
      "+---------+--------------------+----------+---------+-----------+--------+\n",
      "|5820     |[2021-05-18 0:20:48]|ERROR     |6749.5   |311.29     |2       |\n",
      "+---------+--------------------+----------+---------+-----------+--------+\n",
      "\n"
     ]
    }
   ],
   "source": [
    "spark.sql(\n",
    "    \"\"\"\n",
    "    WiTH duplicadas as (\n",
    "    SELECT sensor_id, timestamp, error_type, vibration, temperature, COUNT(*)\n",
    "    FROM arquivo_txt\n",
    "    GROUP BY sensor_id, timestamp, error_type, vibration, temperature \n",
    "    HAVING COUNT(*) > 1\n",
    "    )\n",
    "    Select * from duplicadas\n",
    "    \"\"\"\n",
    ").show(truncate=False)\n"
   ]
  },
  {
   "cell_type": "markdown",
   "metadata": {},
   "source": [
    "excluindo os registros duplicados para poder trabalhar com a tabela final"
   ]
  },
  {
   "cell_type": "code",
   "execution_count": 35,
   "metadata": {},
   "outputs": [],
   "source": [
    "spark.sql(\n",
    "    \"\"\"\n",
    "    with deduplicate as (\n",
    "    SELECT\n",
    "        sensor_id,\n",
    "        ROW_NUMBER() OVER (PARTITION BY sensor_id, timestamp, error_type,vibration, temperature    ORDER BY timestamp asc) AS row_number,\n",
    "        timestamp,\n",
    "        error_type,\n",
    "        vibration,\n",
    "        temperature    \n",
    "    FROM arquivo_txt as t\n",
    "    ),\n",
    "    dup as (\n",
    "        select * from deduplicate\n",
    "        where row_number = 1\n",
    "    )\n",
    "    select * from dup\n",
    "    \"\"\"\n",
    ").createOrReplaceTempView(\"arquivo_txt_deduplicado\")"
   ]
  },
  {
   "cell_type": "markdown",
   "metadata": {},
   "source": [
    "Respondendo as questões:"
   ]
  },
  {
   "cell_type": "markdown",
   "metadata": {},
   "source": [
    "Total equipment failures that happened?"
   ]
  },
  {
   "cell_type": "code",
   "execution_count": 36,
   "metadata": {},
   "outputs": [
    {
     "name": "stdout",
     "output_type": "stream",
     "text": [
      "+--------+\n",
      "|count(1)|\n",
      "+--------+\n",
      "|4749474 |\n",
      "+--------+\n",
      "\n"
     ]
    }
   ],
   "source": [
    "spark.sql(\n",
    "    \"\"\"\n",
    "    with qtd_de_erros as (\n",
    "    SELECT\n",
    "        sensor_id,\n",
    "        timestamp,\n",
    "        error_type,\n",
    "        vibration,\n",
    "        temperature    \n",
    "    FROM arquivo_txt_deduplicado as t\n",
    "    WHERE error_type = 'ERROR'\n",
    "   )\n",
    "   select count(*) from qtd_de_erros\n",
    "    \"\"\"\n",
    ").show(truncate=False)"
   ]
  },
  {
   "cell_type": "markdown",
   "metadata": {},
   "source": [
    "criando os joins entre as tempView pra conseguir chegar nos names e group_names de cada sensor"
   ]
  },
  {
   "cell_type": "code",
   "execution_count": 37,
   "metadata": {},
   "outputs": [],
   "source": [
    "spark.sql(\n",
    "    \"\"\"\n",
    "    SELECT\n",
    "        t.sensor_id,\n",
    "        timestamp,\n",
    "        error_type,\n",
    "        vibration,\n",
    "        temperature,\n",
    "        c.equipment_id  \n",
    "    FROM arquivo_txt_deduplicado as t\n",
    "    Left join arquivo_csv c on t.sensor_id = c.sensor_id\n",
    "    \"\"\"\n",
    ").createOrReplaceTempView(\"txt_join_csv\")"
   ]
  },
  {
   "cell_type": "code",
   "execution_count": 38,
   "metadata": {},
   "outputs": [],
   "source": [
    "spark.sql(\n",
    "    \"\"\"\n",
    "    SELECT\n",
    "        j.name,\n",
    "        j.group_name,\n",
    "        sensor_id,\n",
    "        t.equipment_id,\n",
    "        timestamp,\n",
    "        error_type,\n",
    "        vibration,\n",
    "        temperature \n",
    "    FROM txt_join_csv as t\n",
    "    left join arquivo_json j on j.equipment_id = t.equipment_id\n",
    "    \"\"\"\n",
    ").createOrReplaceTempView(\"names_e_groupNames\")"
   ]
  },
  {
   "cell_type": "code",
   "execution_count": 39,
   "metadata": {},
   "outputs": [
    {
     "name": "stdout",
     "output_type": "stream",
     "text": [
      "+--------+----------+---------+------------+---------------------+----------+---------+-----------+\n",
      "|name    |group_name|sensor_id|equipment_id|timestamp            |error_type|vibration|temperature|\n",
      "+--------+----------+---------+------------+---------------------+----------+---------+-----------+\n",
      "|98B84035|NQWPA8D3  |1        |10          |[2019-01-1 0:16:36]  |ERROR     |2905.12  |58.97      |\n",
      "|98B84035|NQWPA8D3  |1        |10          |[2019-01-18 21:27:9] |ERROR     |-5357.64 |370.79     |\n",
      "|98B84035|NQWPA8D3  |1        |10          |[2019-01-19 11:35:34]|ERROR     |3476.94  |464.17     |\n",
      "|98B84035|NQWPA8D3  |1        |10          |[2019-01-20 2:46:19] |ERROR     |2250.63  |307.37     |\n",
      "|98B84035|NQWPA8D3  |1        |10          |[2019-02-1 17:14:15] |ERROR     |3745.17  |273.32     |\n",
      "|98B84035|NQWPA8D3  |1        |10          |[2019-02-10 17:52:12]|ERROR     |2752.82  |20.37      |\n",
      "|98B84035|NQWPA8D3  |1        |10          |[2019-02-2 1:12:18]  |ERROR     |-6122.21 |163.8      |\n",
      "|98B84035|NQWPA8D3  |1        |10          |[2019-03-13 4:44:53] |ERROR     |-1351.07 |345.15     |\n",
      "|98B84035|NQWPA8D3  |1        |10          |[2019-04-17 4:37:53] |ERROR     |-8768.93 |402.75     |\n",
      "|98B84035|NQWPA8D3  |1        |10          |[2019-04-27 1:21:36] |ERROR     |6825.96  |320.65     |\n",
      "|98B84035|NQWPA8D3  |1        |10          |[2019-05-19 12:11:50]|ERROR     |5557.28  |39.97      |\n",
      "|98B84035|NQWPA8D3  |1        |10          |[2019-05-21 10:51:5] |ERROR     |8650.19  |92.17      |\n",
      "|98B84035|NQWPA8D3  |1        |10          |[2019-05-4 8:15:50]  |ERROR     |-8621.51 |368.62     |\n",
      "|98B84035|NQWPA8D3  |1        |10          |[2019-06-7 17:19:18] |ERROR     |914.94   |327.35     |\n",
      "|98B84035|NQWPA8D3  |1        |10          |[2019-07-10 22:38:44]|ERROR     |-2227.38 |213.46     |\n",
      "|98B84035|NQWPA8D3  |1        |10          |[2019-07-21 13:41:30]|ERROR     |8548.1   |128.16     |\n",
      "|98B84035|NQWPA8D3  |1        |10          |[2019-09-16 12:40:45]|ERROR     |-9664.04 |218.55     |\n",
      "|98B84035|NQWPA8D3  |1        |10          |[2019-09-3 15:29:5]  |ERROR     |2761.48  |385.68     |\n",
      "|98B84035|NQWPA8D3  |1        |10          |[2019-09-4 1:2:33]   |ERROR     |-6266.02 |25.94      |\n",
      "|98B84035|NQWPA8D3  |1        |10          |[2019-11-1 6:17:28]  |ERROR     |721.02   |32.53      |\n",
      "+--------+----------+---------+------------+---------------------+----------+---------+-----------+\n",
      "only showing top 20 rows\n",
      "\n"
     ]
    }
   ],
   "source": [
    "spark.sql(\n",
    "    \"\"\"\n",
    "    SELECT\n",
    "        name,\n",
    "        group_name,\n",
    "        sensor_id,\n",
    "        equipment_id,\n",
    "        timestamp,\n",
    "        error_type,\n",
    "        vibration,\n",
    "        temperature \n",
    "    FROM names_e_groupNames as n\n",
    "    \"\"\"\n",
    ").show(truncate=False)"
   ]
  },
  {
   "cell_type": "markdown",
   "metadata": {},
   "source": [
    "Which equipment name had most failures?"
   ]
  },
  {
   "cell_type": "code",
   "execution_count": 42,
   "metadata": {},
   "outputs": [
    {
     "name": "stdout",
     "output_type": "stream",
     "text": [
      "+--------+------------+\n",
      "|name    |total_falhas|\n",
      "+--------+------------+\n",
      "|2C195700|343800      |\n",
      "+--------+------------+\n",
      "\n"
     ]
    }
   ],
   "source": [
    "spark.sql(\n",
    "    \"\"\"\n",
    "    SELECT\n",
    "        name,\n",
    "        COUNT(*) as total_falhas\n",
    "    FROM names_e_groupNames\n",
    "    WHERE error_type = 'ERROR'\n",
    "    GROUP BY name\n",
    "    ORDER BY total_falhas DESC\n",
    "    LIMIT 1\n",
    "    \"\"\"\n",
    ").show(truncate=False)"
   ]
  },
  {
   "cell_type": "markdown",
   "metadata": {},
   "source": [
    "Average amount of failures across equipment group, ordered by the number of failures in ascending order?"
   ]
  },
  {
   "cell_type": "code",
   "execution_count": 43,
   "metadata": {},
   "outputs": [],
   "source": [
    "spark.sql(\n",
    "    \"\"\"\n",
    "    SELECT group_name,\n",
    "        sensor_id,\n",
    "        equipment_id,\n",
    "        count(1) as c\n",
    "    FROM names_e_groupNames\n",
    "    WHERE error_type = 'ERROR'\n",
    "    GROUP BY group_name, sensor_id, equipment_id\n",
    "    ORDER BY group_name desc\n",
    "    \"\"\"\n",
    ").createOrReplaceTempView(\"media_falhas\")"
   ]
  },
  {
   "cell_type": "code",
   "execution_count": 44,
   "metadata": {},
   "outputs": [
    {
     "name": "stdout",
     "output_type": "stream",
     "text": [
      "+------------------+----------+\n",
      "|media_falhas      |group_name|\n",
      "+------------------+----------+\n",
      "|499.3943557370962 |FGHQWR2Q  |\n",
      "|499.7354458364038 |PA92NCXZ  |\n",
      "|500.8073529411765 |Z9K1SAP4  |\n",
      "|500.5375          |9N127Z5P  |\n",
      "|499.53538311371403|VAPQY59S  |\n",
      "|500.834680382072  |NQWPA8D3  |\n",
      "+------------------+----------+\n",
      "\n"
     ]
    }
   ],
   "source": [
    "spark.sql(\n",
    "    \"\"\"\n",
    "    SELECT \n",
    "        AVG(c) as media_falhas,\n",
    "        group_name\n",
    "    FROM media_falhas\n",
    "    GROUP BY group_name\n",
    "    \"\"\"\n",
    ").show(truncate=False)"
   ]
  },
  {
   "cell_type": "markdown",
   "metadata": {},
   "source": [
    "Rank the sensors which present the most number of errors by equipment name in an equipment group."
   ]
  },
  {
   "cell_type": "code",
   "execution_count": 45,
   "metadata": {},
   "outputs": [
    {
     "name": "stdout",
     "output_type": "stream",
     "text": [
      "+----------+---------+--------------+-----------+\n",
      "|group_name|sensor_id|equipment_name|total_erros|\n",
      "+----------+---------+--------------+-----------+\n",
      "|PA92NCXZ  |9400     |09C37FB8      |577        |\n",
      "|PA92NCXZ  |1358     |09C37FB8      |573        |\n",
      "|PA92NCXZ  |8631     |09C37FB8      |563        |\n",
      "|PA92NCXZ  |862      |09C37FB8      |560        |\n",
      "|PA92NCXZ  |3070     |09C37FB8      |559        |\n",
      "|PA92NCXZ  |8752     |09C37FB8      |559        |\n",
      "|PA92NCXZ  |1125     |09C37FB8      |556        |\n",
      "|PA92NCXZ  |4494     |09C37FB8      |556        |\n",
      "|PA92NCXZ  |9285     |09C37FB8      |549        |\n",
      "|PA92NCXZ  |2778     |09C37FB8      |548        |\n",
      "|PA92NCXZ  |6948     |09C37FB8      |548        |\n",
      "|PA92NCXZ  |470      |09C37FB8      |548        |\n",
      "|PA92NCXZ  |6156     |09C37FB8      |547        |\n",
      "|PA92NCXZ  |6189     |09C37FB8      |546        |\n",
      "|PA92NCXZ  |6880     |09C37FB8      |546        |\n",
      "|PA92NCXZ  |9958     |09C37FB8      |545        |\n",
      "|PA92NCXZ  |798      |09C37FB8      |545        |\n",
      "|PA92NCXZ  |9415     |09C37FB8      |545        |\n",
      "|PA92NCXZ  |4811     |09C37FB8      |545        |\n",
      "|PA92NCXZ  |1371     |09C37FB8      |545        |\n",
      "+----------+---------+--------------+-----------+\n",
      "only showing top 20 rows\n",
      "\n"
     ]
    }
   ],
   "source": [
    "spark.sql(\n",
    "    \"\"\"\n",
    "    SELECT\n",
    "        group_name,\n",
    "        sensor_id,\n",
    "        name as equipment_name,\n",
    "        COUNT(*) as total_erros\n",
    "    FROM names_e_groupNames\n",
    "    WHERE error_type = 'ERROR'\n",
    "    GROUP BY group_name, sensor_id, name\n",
    "    ORDER BY equipment_name, group_name, total_erros desc\n",
    "    \"\"\"\n",
    ").show(truncate=False)"
   ]
  },
  {
   "cell_type": "markdown",
   "metadata": {},
   "source": [
    "encerra a sessão spark"
   ]
  },
  {
   "cell_type": "code",
   "execution_count": 46,
   "metadata": {},
   "outputs": [
    {
     "name": "stdout",
     "output_type": "stream",
     "text": [
      "SparkSession encerrada\n"
     ]
    }
   ],
   "source": [
    "try:\n",
    "    spark.stop()\n",
    "    print('SparkSession encerrada')\n",
    "except Exception as e:\n",
    "    print('Erro ao encerrar a SparkSession')\n",
    "    raise ValueError(e)"
   ]
  }
 ],
 "metadata": {
  "kernelspec": {
   "display_name": "delta-spark",
   "language": "python",
   "name": "python3"
  },
  "language_info": {
   "codemirror_mode": {
    "name": "ipython",
    "version": 3
   },
   "file_extension": ".py",
   "mimetype": "text/x-python",
   "name": "python",
   "nbconvert_exporter": "python",
   "pygments_lexer": "ipython3",
   "version": "3.8.17"
  }
 },
 "nbformat": 4,
 "nbformat_minor": 2
}
